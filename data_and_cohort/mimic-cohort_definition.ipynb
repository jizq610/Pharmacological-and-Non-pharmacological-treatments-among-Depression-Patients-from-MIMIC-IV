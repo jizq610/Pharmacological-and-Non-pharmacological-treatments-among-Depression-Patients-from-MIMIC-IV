{
 "cells": [
  {
   "cell_type": "code",
   "execution_count": 2,
   "id": "a5ee7e7e",
   "metadata": {},
   "outputs": [],
   "source": [
    "import pandas as pd"
   ]
  },
  {
   "cell_type": "code",
   "execution_count": 3,
   "id": "c8c708b1",
   "metadata": {},
   "outputs": [
    {
     "name": "stdout",
     "output_type": "stream",
     "text": [
      "364627\n",
      "6364488\n",
      "331793\n"
     ]
    },
    {
     "name": "stderr",
     "output_type": "stream",
     "text": [
      "/var/folders/54/kyw0z8cx25d2c4r56kkw4rfw0000gn/T/ipykernel_66112/1860960399.py:11: DtypeWarning: Columns (11) have mixed types. Specify dtype option on import or set low_memory=False.\n",
      "  prescriptions = pd.read_csv(\"mimic-data/prescriptions.csv.gz\", compression='gzip')\n"
     ]
    },
    {
     "name": "stdout",
     "output_type": "stream",
     "text": [
      "20292611\n"
     ]
    },
    {
     "data": {
      "text/plain": [
       "(Index(['subject_id', 'gender', 'anchor_age', 'anchor_year',\n",
       "        'anchor_year_group', 'dod'],\n",
       "       dtype='object'),\n",
       " Index(['subject_id', 'hadm_id', 'seq_num', 'icd_code', 'icd_version'], dtype='object'),\n",
       " Index(['note_id', 'subject_id', 'hadm_id', 'note_type', 'note_seq',\n",
       "        'charttime', 'storetime', 'text'],\n",
       "       dtype='object'),\n",
       " Index(['subject_id', 'hadm_id', 'pharmacy_id', 'poe_id', 'poe_seq',\n",
       "        'order_provider_id', 'starttime', 'stoptime', 'drug_type', 'drug',\n",
       "        'formulary_drug_cd', 'gsn', 'ndc', 'prod_strength', 'form_rx',\n",
       "        'dose_val_rx', 'dose_unit_rx', 'form_val_disp', 'form_unit_disp',\n",
       "        'doses_per_24_hrs', 'route'],\n",
       "       dtype='object'))"
      ]
     },
     "execution_count": 3,
     "metadata": {},
     "output_type": "execute_result"
    }
   ],
   "source": [
    "patients = pd.read_csv(\"mimic-data/patients.csv.gz\", compression='gzip')\n",
    "print(len(patients))\n",
    "\n",
    "diagnoses_icd = pd.read_csv(\"mimic-data/diagnoses_icd.csv.gz\", compression='gzip')\n",
    "print(len(diagnoses_icd))\n",
    "\n",
    "\n",
    "discharge = pd.read_csv(\"mimic-data/discharge.csv.gz\", compression='gzip')\n",
    "print(len(discharge))\n",
    "\n",
    "prescriptions = pd.read_csv(\"mimic-data/prescriptions.csv.gz\", compression='gzip')\n",
    "print(len(prescriptions))\n",
    "\n",
    "patients.columns, diagnoses_icd.columns, discharge.columns, prescriptions.columns"
   ]
  },
  {
   "cell_type": "code",
   "execution_count": 4,
   "id": "72b04bb6",
   "metadata": {},
   "outputs": [
    {
     "data": {
      "text/plain": [
       "49471"
      ]
     },
     "execution_count": 4,
     "metadata": {},
     "output_type": "execute_result"
    }
   ],
   "source": [
    "#get individuals with a depression diagnosis\n",
    "\n",
    "mimic_df_icd10 = diagnoses_icd[diagnoses_icd[\"icd_version\"] == 10]\n",
    "depression = mimic_df_icd10[mimic_df_icd10[\"icd_code\"].str.match(r\"^F3[23]\")]\n",
    "len(depression)\n"
   ]
  },
  {
   "cell_type": "code",
   "execution_count": 5,
   "id": "be3f41fc",
   "metadata": {},
   "outputs": [
    {
     "data": {
      "text/plain": [
       "24289"
      ]
     },
     "execution_count": 5,
     "metadata": {},
     "output_type": "execute_result"
    }
   ],
   "source": [
    "#merge in discharge \n",
    "discharge_selected = discharge[[\"note_id\", \"hadm_id\", \"note_seq\", \"text\"]]\n",
    "merged = pd.merge(depression, discharge_selected, on=\"hadm_id\", how = \"inner\")\n",
    "len(merged)"
   ]
  },
  {
   "cell_type": "code",
   "execution_count": 6,
   "id": "e69ffedf",
   "metadata": {},
   "outputs": [
    {
     "data": {
      "text/plain": [
       "24289"
      ]
     },
     "execution_count": 6,
     "metadata": {},
     "output_type": "execute_result"
    }
   ],
   "source": [
    "#merge in patients\n",
    "patients_selected = patients[[\"subject_id\", \"gender\", \"anchor_age\"]]\n",
    "merged = pd.merge(merged, patients_selected, on=\"subject_id\", how=\"inner\")\n",
    "len(merged)"
   ]
  },
  {
   "cell_type": "code",
   "execution_count": 7,
   "id": "27628521",
   "metadata": {},
   "outputs": [
    {
     "data": {
      "text/plain": [
       "1254818"
      ]
     },
     "execution_count": 7,
     "metadata": {},
     "output_type": "execute_result"
    }
   ],
   "source": [
    "#merge in prescriptions\n",
    "prescription_selected = prescriptions[[\"hadm_id\", \"poe_id\", \"drug\", \"gsn\", \"ndc\"]]\n",
    "merged = pd.merge(merged, prescription_selected, on=\"hadm_id\", how=\"left\")\n",
    "len(merged)\n"
   ]
  },
  {
   "cell_type": "markdown",
   "id": "49f0d0d4",
   "metadata": {},
   "source": [
    "## experiment with MIMIC-IV-ED (FINAL)"
   ]
  },
  {
   "cell_type": "code",
   "execution_count": 8,
   "id": "996f50fd",
   "metadata": {},
   "outputs": [
    {
     "name": "stdout",
     "output_type": "stream",
     "text": [
      "425087\n",
      "2987342\n"
     ]
    }
   ],
   "source": [
    "import pandas as pd\n",
    "\n",
    "\n",
    "#the two datasets from MIMIC-IV-ED\n",
    "edstays = pd.read_csv(\"mimic-data/edstays.csv.gz\", compression='gzip')\n",
    "print(len(edstays))\n",
    "medrecon = pd.read_csv(\"mimic-data/medrecon.csv.gz\", compression='gzip')\n",
    "print(len(medrecon))"
   ]
  },
  {
   "cell_type": "code",
   "execution_count": 9,
   "id": "ff70322c",
   "metadata": {},
   "outputs": [],
   "source": [
    "medrecon.columns, edstays.columns\n",
    "medrecon_selected = medrecon[[\"subject_id\", \"stay_id\", \"name\", \"gsn\", \"ndc\", \"etc_rn\", \"etccode\", \"etcdescription\"]]\n",
    "edstays_selected = edstays[[\"subject_id\", \"hadm_id\", \"stay_id\", \"gender\", \"race\"]]"
   ]
  },
  {
   "cell_type": "code",
   "execution_count": 10,
   "id": "ed6250da",
   "metadata": {},
   "outputs": [
    {
     "data": {
      "text/plain": [
       "2987342"
      ]
     },
     "execution_count": 10,
     "metadata": {},
     "output_type": "execute_result"
    }
   ],
   "source": [
    "ed_merged = pd.merge(edstays_selected, medrecon_selected, on=['subject_id', 'stay_id'], how='inner')\n",
    "len(ed_merged)"
   ]
  },
  {
   "cell_type": "code",
   "execution_count": 11,
   "id": "4ce7aa1d",
   "metadata": {},
   "outputs": [
    {
     "name": "stdout",
     "output_type": "stream",
     "text": [
      "364627\n",
      "6364488\n",
      "331793\n"
     ]
    }
   ],
   "source": [
    "#GETTING 2 datasets from MIMIC-IV\n",
    "patients = pd.read_csv(\"mimic-data/patients.csv.gz\", compression='gzip')\n",
    "print(len(patients))\n",
    "\n",
    "diagnoses_icd = pd.read_csv(\"mimic-data/diagnoses_icd.csv.gz\", compression='gzip')\n",
    "print(len(diagnoses_icd))\n",
    "\n",
    "\n",
    "discharge = pd.read_csv(\"mimic-data/discharge.csv.gz\", compression='gzip')\n",
    "print(len(discharge))\n"
   ]
  },
  {
   "cell_type": "code",
   "execution_count": 12,
   "id": "ac302d11",
   "metadata": {},
   "outputs": [
    {
     "data": {
      "text/plain": [
       "49471"
      ]
     },
     "execution_count": 12,
     "metadata": {},
     "output_type": "execute_result"
    }
   ],
   "source": [
    "#Get individuals with DIAGNOSES DEPRESSION\n",
    "diagnoses_icd10 = diagnoses_icd[diagnoses_icd[\"icd_version\"] == 10]\n",
    "depression_patients = diagnoses_icd10[diagnoses_icd10[\"icd_code\"].str.match(r\"^F3[23]\")]\n",
    "len(depression_patients)"
   ]
  },
  {
   "cell_type": "code",
   "execution_count": 13,
   "id": "f34c5bc0",
   "metadata": {},
   "outputs": [
    {
     "data": {
      "text/plain": [
       "49471"
      ]
     },
     "execution_count": 13,
     "metadata": {},
     "output_type": "execute_result"
    }
   ],
   "source": [
    "#merge with patients\n",
    "patients_selected = patients[[\"subject_id\", \"anchor_age\"]]\n",
    "depression_patients_with_demographics = pd.merge(depression_patients, patients_selected, on=\"subject_id\", how=\"inner\")\n",
    "len(depression_patients_with_demographics)"
   ]
  },
  {
   "cell_type": "code",
   "execution_count": 14,
   "id": "ebdc58bb",
   "metadata": {},
   "outputs": [
    {
     "data": {
      "text/plain": [
       "24289"
      ]
     },
     "execution_count": 14,
     "metadata": {},
     "output_type": "execute_result"
    }
   ],
   "source": [
    "#merge in discharge notes \n",
    "discharge_selected = discharge[[\"subject_id\",\"note_id\", \"hadm_id\", \"note_seq\", \"text\"]]\n",
    "depression_patients_with_demographics_and_notes = pd.merge(depression_patients_with_demographics, discharge_selected, on=[\"subject_id\",\"hadm_id\"], how = \"inner\")\n",
    "len(depression_patients_with_demographics_and_notes)"
   ]
  },
  {
   "cell_type": "markdown",
   "id": "ac676648",
   "metadata": {},
   "source": [
    "## MERGING"
   ]
  },
  {
   "cell_type": "code",
   "execution_count": 15,
   "id": "71428a57",
   "metadata": {},
   "outputs": [
    {
     "data": {
      "text/plain": [
       "(220429,\n",
       " 9121,\n",
       " 30,\n",
       " count    220429.000000\n",
       " mean         59.305019\n",
       " std          15.933945\n",
       " min          18.000000\n",
       " 25%          49.000000\n",
       " 50%          60.000000\n",
       " 75%          71.000000\n",
       " max          91.000000\n",
       " Name: anchor_age, dtype: float64)"
      ]
     },
     "execution_count": 15,
     "metadata": {},
     "output_type": "execute_result"
    }
   ],
   "source": [
    "#merge by subject_id and hadm_id\n",
    "final = pd.merge(depression_patients_with_demographics_and_notes, ed_merged, on=[\"subject_id\", \"hadm_id\"], how=\"inner\")\n",
    "len(final), final[\"subject_id\"].nunique(), final[\"race\"].nunique(), final[\"anchor_age\"].describe()"
   ]
  },
  {
   "cell_type": "code",
   "execution_count": 16,
   "id": "4391d6a5",
   "metadata": {},
   "outputs": [],
   "source": [
    "final.columns\n",
    "final.to_csv(\"final_mimic.csv\")"
   ]
  },
  {
   "cell_type": "markdown",
   "id": "82f91538",
   "metadata": {},
   "source": [
    "## further exploration"
   ]
  },
  {
   "cell_type": "code",
   "execution_count": 17,
   "id": "2555121f",
   "metadata": {},
   "outputs": [
    {
     "data": {
      "text/plain": [
       "(16461, 7184, 11903)"
      ]
     },
     "execution_count": 17,
     "metadata": {},
     "output_type": "execute_result"
    }
   ],
   "source": [
    "#filter by keeping only individuals with antidepressants\n",
    "only_antidepressant = final[final['etcdescription'].str.contains(\"Antidepressant\", na=False)]\n",
    "len(only_antidepressant), only_antidepressant[\"subject_id\"].nunique(), only_antidepressant[\"hadm_id\"].nunique()"
   ]
  },
  {
   "cell_type": "code",
   "execution_count": 18,
   "id": "4525aaa7",
   "metadata": {},
   "outputs": [
    {
     "data": {
      "text/plain": [
       "174"
      ]
     },
     "execution_count": 18,
     "metadata": {},
     "output_type": "execute_result"
    }
   ],
   "source": [
    "#any therapies mentioned?\n",
    "#patterns = [\"psychotherapy\", \"Psychotherapy\", \"psycho therapy\", \"Psycho Therapy\", \"Psycho therapy\", \"psycho-therapy\", \"Psycho-therapy\"]\n",
    "#patterns = [\"CBT\", \"cognitive behavioral therapy\", \"Cognitive Behavioral Therapy\", \"cognitive-behavioral therapy\", \"Cognitive-Behavioral Therapy\"]\n",
    "patterns = [\"DBT\", \"dialectical behavior therapy\", \"Dialectical Behavior Therapy\", \"dialectical-behavioral therapy\", \"Dialectical-Behavioral Therapy\"]\n",
    "\n",
    "all_patterns = \"|\".join(patterns)\n",
    "any_therapies = final[final['text'].str.contains(all_patterns, na=False)]\n",
    "len(any_therapies)"
   ]
  },
  {
   "cell_type": "code",
   "execution_count": null,
   "id": "95aee92a",
   "metadata": {},
   "outputs": [],
   "source": []
  }
 ],
 "metadata": {
  "kernelspec": {
   "display_name": "base",
   "language": "python",
   "name": "python3"
  },
  "language_info": {
   "codemirror_mode": {
    "name": "ipython",
    "version": 3
   },
   "file_extension": ".py",
   "mimetype": "text/x-python",
   "name": "python",
   "nbconvert_exporter": "python",
   "pygments_lexer": "ipython3",
   "version": "3.9.13"
  }
 },
 "nbformat": 4,
 "nbformat_minor": 5
}
